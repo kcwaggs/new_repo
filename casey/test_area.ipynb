{
 "cells": [
  {
   "cell_type": "code",
   "execution_count": 2,
   "metadata": {},
   "outputs": [],
   "source": [
    "# dependencies\n",
    "from nba_api.stats.endpoints import playercareerstats\n",
    "from nba_api.stats.endpoints import playervsplayer\n",
    "from nba_api.stats.endpoints import leaguedashplayerbiostats\n",
    "from nba_api.stats.endpoints import leaguedashplayerstats\n",
    "from nba_api.stats.endpoints import playercompare\n",
    "from nba_api.stats.endpoints import playerdashboardbyyearoveryear\n",
    "from nba_api.stats.endpoints import commonplayerinfo\n",
    "from nba_api.stats.static import players\n",
    "import pandas as pd\n",
    "import matplotlib.pyplot as plt\n",
    "from scipy.stats import linregress\n",
    "import numpy as np\n",
    "from pprint import pprint"
   ]
  },
  {
   "cell_type": "code",
   "execution_count": 3,
   "metadata": {},
   "outputs": [],
   "source": [
    "# player stats - requires player ID (can be inactive)\n",
    "player_career = playercareerstats.PlayerCareerStats(player_id = '1627826')\n",
    "# player_career.get_data_frames()[0].head(2)"
   ]
  },
  {
   "cell_type": "code",
   "execution_count": 4,
   "metadata": {},
   "outputs": [],
   "source": [
    "# 'vs_player_id' and 'player_id' required\n",
    "player_v_player = playervsplayer.PlayerVsPlayer(player_id = '1630639', vs_player_id = '1631260')\n",
    "# player_v_player.get_data_frames()[0]"
   ]
  },
  {
   "cell_type": "code",
   "execution_count": 5,
   "metadata": {},
   "outputs": [],
   "source": [
    "# \n",
    "league_players = leaguedashplayerbiostats.LeagueDashPlayerBioStats()\n",
    "# league_players.get_data_frames()[0].head(2)"
   ]
  },
  {
   "cell_type": "code",
   "execution_count": 6,
   "metadata": {},
   "outputs": [],
   "source": [
    "# appears to be only active season stats\n",
    "l_players_2 = leaguedashplayerstats.LeagueDashPlayerStats()\n",
    "# l_players_2.get_data_frames()[0].head(2)"
   ]
  },
  {
   "cell_type": "code",
   "execution_count": 7,
   "metadata": {},
   "outputs": [],
   "source": [
    "# requires player id list and vs player id list\n",
    "compare = playercompare.PlayerCompare(player_id_list = '1630639', vs_player_id_list = '1631260')\n",
    "# compare.get_data_frames()[0]"
   ]
  },
  {
   "cell_type": "code",
   "execution_count": 8,
   "metadata": {},
   "outputs": [],
   "source": [
    "# require player id - looks to be only the past year\n",
    "year_over_year = playerdashboardbyyearoveryear.PlayerDashboardByYearOverYear(player_id = '1627826')\n",
    "# year_over_year.get_data_frames()[0]\n"
   ]
  },
  {
   "cell_type": "code",
   "execution_count": 9,
   "metadata": {},
   "outputs": [],
   "source": [
    "# returns all players, all time active and non active (player ID, full name, first name, last name, is active)\n",
    "all_players = pd.DataFrame(players.get_players())\n",
    "# all_players.head()"
   ]
  },
  {
   "cell_type": "code",
   "execution_count": 15,
   "metadata": {},
   "outputs": [
    {
     "data": {
      "text/html": [
       "<div>\n",
       "<style scoped>\n",
       "    .dataframe tbody tr th:only-of-type {\n",
       "        vertical-align: middle;\n",
       "    }\n",
       "\n",
       "    .dataframe tbody tr th {\n",
       "        vertical-align: top;\n",
       "    }\n",
       "\n",
       "    .dataframe thead th {\n",
       "        text-align: right;\n",
       "    }\n",
       "</style>\n",
       "<table border=\"1\" class=\"dataframe\">\n",
       "  <thead>\n",
       "    <tr style=\"text-align: right;\">\n",
       "      <th></th>\n",
       "      <th>PERSON_ID</th>\n",
       "      <th>FIRST_NAME</th>\n",
       "      <th>LAST_NAME</th>\n",
       "      <th>DISPLAY_FIRST_LAST</th>\n",
       "      <th>DISPLAY_LAST_COMMA_FIRST</th>\n",
       "      <th>DISPLAY_FI_LAST</th>\n",
       "      <th>PLAYER_SLUG</th>\n",
       "      <th>BIRTHDATE</th>\n",
       "      <th>SCHOOL</th>\n",
       "      <th>COUNTRY</th>\n",
       "      <th>...</th>\n",
       "      <th>PLAYERCODE</th>\n",
       "      <th>FROM_YEAR</th>\n",
       "      <th>TO_YEAR</th>\n",
       "      <th>DLEAGUE_FLAG</th>\n",
       "      <th>NBA_FLAG</th>\n",
       "      <th>GAMES_PLAYED_FLAG</th>\n",
       "      <th>DRAFT_YEAR</th>\n",
       "      <th>DRAFT_ROUND</th>\n",
       "      <th>DRAFT_NUMBER</th>\n",
       "      <th>GREATEST_75_FLAG</th>\n",
       "    </tr>\n",
       "  </thead>\n",
       "  <tbody>\n",
       "    <tr>\n",
       "      <th>0</th>\n",
       "      <td>1627826</td>\n",
       "      <td>Ivica</td>\n",
       "      <td>Zubac</td>\n",
       "      <td>Ivica Zubac</td>\n",
       "      <td>Zubac, Ivica</td>\n",
       "      <td>I. Zubac</td>\n",
       "      <td>ivica-zubac</td>\n",
       "      <td>1997-03-18T00:00:00</td>\n",
       "      <td>Mega Basket</td>\n",
       "      <td>Croatia</td>\n",
       "      <td>...</td>\n",
       "      <td>ivica_zubac</td>\n",
       "      <td>2016</td>\n",
       "      <td>2023</td>\n",
       "      <td>Y</td>\n",
       "      <td>Y</td>\n",
       "      <td>Y</td>\n",
       "      <td>2016</td>\n",
       "      <td>2</td>\n",
       "      <td>32</td>\n",
       "      <td>N</td>\n",
       "    </tr>\n",
       "  </tbody>\n",
       "</table>\n",
       "<p>1 rows × 33 columns</p>\n",
       "</div>"
      ],
      "text/plain": [
       "   PERSON_ID FIRST_NAME LAST_NAME DISPLAY_FIRST_LAST DISPLAY_LAST_COMMA_FIRST  \\\n",
       "0    1627826      Ivica     Zubac        Ivica Zubac             Zubac, Ivica   \n",
       "\n",
       "  DISPLAY_FI_LAST  PLAYER_SLUG            BIRTHDATE       SCHOOL  COUNTRY  \\\n",
       "0        I. Zubac  ivica-zubac  1997-03-18T00:00:00  Mega Basket  Croatia   \n",
       "\n",
       "   ...   PLAYERCODE FROM_YEAR TO_YEAR  DLEAGUE_FLAG NBA_FLAG  \\\n",
       "0  ...  ivica_zubac      2016    2023             Y        Y   \n",
       "\n",
       "  GAMES_PLAYED_FLAG DRAFT_YEAR DRAFT_ROUND  DRAFT_NUMBER GREATEST_75_FLAG  \n",
       "0                 Y       2016           2            32                N  \n",
       "\n",
       "[1 rows x 33 columns]"
      ]
     },
     "execution_count": 15,
     "metadata": {},
     "output_type": "execute_result"
    }
   ],
   "source": [
    "common_p_info = commonplayerinfo.CommonPlayerInfo(player_id = '1627826')\n",
    "common_p_info.get_data_frames()[0]\n"
   ]
  },
  {
   "cell_type": "code",
   "execution_count": 24,
   "metadata": {},
   "outputs": [
    {
     "data": {
      "text/plain": [
       "'{\"resource\": \"commonplayerinfo\", \"parameters\": [{\"PlayerID\": 1627826}, {\"LeagueID\": null}], \"resultSets\": [{\"name\": \"CommonPlayerInfo\", \"headers\": [\"PERSON_ID\", \"FIRST_NAME\", \"LAST_NAME\", \"DISPLAY_FIRST_LAST\", \"DISPLAY_LAST_COMMA_FIRST\", \"DISPLAY_FI_LAST\", \"PLAYER_SLUG\", \"BIRTHDATE\", \"SCHOOL\", \"COUNTRY\", \"LAST_AFFILIATION\", \"HEIGHT\", \"WEIGHT\", \"SEASON_EXP\", \"JERSEY\", \"POSITION\", \"ROSTERSTATUS\", \"GAMES_PLAYED_CURRENT_SEASON_FLAG\", \"TEAM_ID\", \"TEAM_NAME\", \"TEAM_ABBREVIATION\", \"TEAM_CODE\", \"TEAM_CITY\", \"PLAYERCODE\", \"FROM_YEAR\", \"TO_YEAR\", \"DLEAGUE_FLAG\", \"NBA_FLAG\", \"GAMES_PLAYED_FLAG\", \"DRAFT_YEAR\", \"DRAFT_ROUND\", \"DRAFT_NUMBER\", \"GREATEST_75_FLAG\"], \"rowSet\": [[1627826, \"Ivica\", \"Zubac\", \"Ivica Zubac\", \"Zubac, Ivica\", \"I. Zubac\", \"ivica-zubac\", \"1997-03-18T00:00:00\", \"Mega Basket\", \"Croatia\", \"Mega Basket/Croatia\", \"7-0\", \"240\", 7, \"40\", \"Center\", \"Active\", \"Y\", 1610612746, \"Clippers\", \"LAC\", \"clippers\", \"LA\", \"ivica_zubac\", 2016, 2023, \"Y\", \"Y\", \"Y\", \"2016\", \"2\", \"32\", \"N\"]]}, {\"name\": \"PlayerHeadlineStats\", \"headers\": [\"PLAYER_ID\", \"PLAYER_NAME\", \"TimeFrame\", \"PTS\", \"AST\", \"REB\", \"PIE\"], \"rowSet\": [[1627826, \"Ivica Zubac\", \"2023-24\", 12.4, 1.3, 9.7, 0.123]]}, {\"name\": \"AvailableSeasons\", \"headers\": [\"SEASON_ID\"], \"rowSet\": [[\"12016\"], [\"22016\"], [\"12017\"], [\"22017\"], [\"12018\"], [\"22018\"], [\"42018\"], [\"12019\"], [\"22019\"], [\"42019\"], [\"12020\"], [\"22020\"], [\"42020\"], [\"12021\"], [\"22021\"], [\"52021\"], [\"12022\"], [\"22022\"], [\"42022\"], [\"12023\"], [\"22023\"]]}]}'"
      ]
     },
     "execution_count": 24,
     "metadata": {},
     "output_type": "execute_result"
    }
   ],
   "source": [
    "common_p_info.get_json()"
   ]
  },
  {
   "cell_type": "code",
   "execution_count": null,
   "metadata": {},
   "outputs": [],
   "source": []
  }
 ],
 "metadata": {
  "kernelspec": {
   "display_name": "dev",
   "language": "python",
   "name": "python3"
  },
  "language_info": {
   "codemirror_mode": {
    "name": "ipython",
    "version": 3
   },
   "file_extension": ".py",
   "mimetype": "text/x-python",
   "name": "python",
   "nbconvert_exporter": "python",
   "pygments_lexer": "ipython3",
   "version": "3.10.13"
  }
 },
 "nbformat": 4,
 "nbformat_minor": 2
}
