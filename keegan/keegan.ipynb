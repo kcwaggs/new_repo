{
 "cells": [
  {
   "cell_type": "code",
   "execution_count": 39,
   "metadata": {},
   "outputs": [],
   "source": [
    "from nba_api.stats.static import teams\n",
    "from nba_api.stats.endpoints import teamyearbyyearstats\n",
    "import pandas as pd\n",
    "import matplotlib.pyplot as plt\n",
    "import requests\n",
    "import numpy as np\n",
    "from pprint import pprint"
   ]
  },
  {
   "cell_type": "code",
   "execution_count": 90,
   "metadata": {},
   "outputs": [
    {
     "data": {
      "text/html": [
       "<div>\n",
       "<style scoped>\n",
       "    .dataframe tbody tr th:only-of-type {\n",
       "        vertical-align: middle;\n",
       "    }\n",
       "\n",
       "    .dataframe tbody tr th {\n",
       "        vertical-align: top;\n",
       "    }\n",
       "\n",
       "    .dataframe thead th {\n",
       "        text-align: right;\n",
       "    }\n",
       "</style>\n",
       "<table border=\"1\" class=\"dataframe\">\n",
       "  <thead>\n",
       "    <tr style=\"text-align: right;\">\n",
       "      <th></th>\n",
       "      <th>Year</th>\n",
       "      <th>Team</th>\n",
       "      <th>Points Against</th>\n",
       "      <th>Result</th>\n",
       "    </tr>\n",
       "  </thead>\n",
       "  <tbody>\n",
       "    <tr>\n",
       "      <th>0</th>\n",
       "      <td>2020</td>\n",
       "      <td>Los Angeles Lakers</td>\n",
       "      <td>107.6</td>\n",
       "      <td>4-2</td>\n",
       "    </tr>\n",
       "    <tr>\n",
       "      <th>1</th>\n",
       "      <td>2019</td>\n",
       "      <td>Toronto Raptors</td>\n",
       "      <td>108.4</td>\n",
       "      <td>4-2</td>\n",
       "    </tr>\n",
       "    <tr>\n",
       "      <th>2</th>\n",
       "      <td>2018</td>\n",
       "      <td>Golden State Warriors</td>\n",
       "      <td>107.5</td>\n",
       "      <td>4-0</td>\n",
       "    </tr>\n",
       "    <tr>\n",
       "      <th>3</th>\n",
       "      <td>2017</td>\n",
       "      <td>Golden State Warriors</td>\n",
       "      <td>104.3</td>\n",
       "      <td>4-1</td>\n",
       "    </tr>\n",
       "    <tr>\n",
       "      <th>4</th>\n",
       "      <td>2016</td>\n",
       "      <td>Cleveland Cavaliers</td>\n",
       "      <td>98.3</td>\n",
       "      <td>4-3</td>\n",
       "    </tr>\n",
       "  </tbody>\n",
       "</table>\n",
       "</div>"
      ],
      "text/plain": [
       "   Year                   Team  Points Against Result\n",
       "0  2020     Los Angeles Lakers           107.6    4-2\n",
       "1  2019        Toronto Raptors           108.4    4-2\n",
       "2  2018  Golden State Warriors           107.5    4-0\n",
       "3  2017  Golden State Warriors           104.3    4-1\n",
       "4  2016    Cleveland Cavaliers            98.3    4-3"
      ]
     },
     "execution_count": 90,
     "metadata": {},
     "output_type": "execute_result"
    }
   ],
   "source": [
    "champ_stats_df = pd.read_csv('Resources/champs_stats.csv')\n",
    "champ_stats_df.head()"
   ]
  },
  {
   "cell_type": "code",
   "execution_count": 101,
   "metadata": {},
   "outputs": [
    {
     "data": {
      "text/plain": [
       "{'2020': '1610612747',\n",
       " '2019': '1610612761',\n",
       " '2018': '1610612744',\n",
       " '2017': '1610612744',\n",
       " '2016': '1610612739',\n",
       " '2015': '1610612744',\n",
       " '2014': '1610612759',\n",
       " '2013': '1610612748',\n",
       " '2012': '1610612748',\n",
       " '2011': '1610612742',\n",
       " '2010': '1610612747',\n",
       " '2009': '1610612747',\n",
       " '2008': '1610612738',\n",
       " '2007': '1610612759',\n",
       " '2006': '1610612748',\n",
       " '2005': '1610612759',\n",
       " '2004': '1610612765',\n",
       " '2003': '1610612759',\n",
       " '2002': '1610612747',\n",
       " '2001': '1610612747',\n",
       " '2000': '1610612747'}"
      ]
     },
     "execution_count": 101,
     "metadata": {},
     "output_type": "execute_result"
    }
   ],
   "source": [
    "nba_teams = teams.get_teams()\n",
    "all_champs = champ_stats_df['Team']\n",
    "team_ids = {}\n",
    "year = 2020\n",
    "for champ in all_champs:\n",
    "    team_ids[str(year)] = str([team for team in nba_teams if team[\"full_name\"] == f'{champ}'][0]['id'])\n",
    "    year = int(year) - 1\n",
    "    \n",
    "\n",
    "lakers_id = [team for team in nba_teams if team[\"full_name\"] == \"Los Angeles Lakers\"][0]['id']\n",
    "raptors_id = [team for team in nba_teams if team[\"full_name\"] == \"Toronto Raptors\"][0]['id']\n",
    "warriors_id = [team for team in nba_teams if team[\"full_name\"] == \"Golden State Warriors\"][0]['id']\n",
    "cavs_id = [team for team in nba_teams if team[\"full_name\"] == \"Cleveland Cavaliers\"][0]['id']\n",
    "spurs_id = [team for team in nba_teams if team[\"full_name\"] == \"San Antonio Spurs\"][0]['id']\n",
    "heat_id = [team for team in nba_teams if team[\"full_name\"] == \"Miami Heat\"][0]['id']\n",
    "mavs_id = [team for team in nba_teams if team[\"full_name\"] == \"Dallas Mavericks\"][0]['id']\n",
    "celtics_id = [team for team in nba_teams if team[\"full_name\"] == \"Boston Celtics\"][0]['id']\n",
    "pistons_id = [team for team in nba_teams if team[\"full_name\"] == \"Detroit Pistons\"][0]['id']\n",
    "team_ids\n",
    "# print(lakers_id, raptors_id, warriors_id, cavs_id, spurs_id, heat_id, mavs_id, celtics_id, pistons_id)"
   ]
  },
  {
   "cell_type": "code",
   "execution_count": 102,
   "metadata": {},
   "outputs": [],
   "source": [
    "# Get team info for specific year\n",
    "# team id is [0], city is [1], name is [2], Year is [3], GP is [4], wins is [5], win pct is [7], pts is [-2], lakers first on list is -5\n",
    "full_team_info = {}\n",
    "i = -5\n",
    "\n",
    "for year, identity in team_ids.items():\n",
    "    team_info = teamyearbyyearstats.TeamYearByYearStats(league_id='00', per_mode_simple='Totals', season_type_all_star='Regular Season', team_id=identity).get_dict()\n",
    "    team_name = (team_info['resultSets'][0]['rowSet'][i:][0][1]) + ' ' + team_info['resultSets'][0]['rowSet'][i:][0][2]\n",
    "    team_dict = {\n",
    "        'Team': team_name,\n",
    "        'ID': str(team_info['resultSets'][0]['rowSet'][i:][0][0]),\n",
    "        'Games Played': team_info['resultSets'][0]['rowSet'][i:][0][4],\n",
    "        'Win %': team_info['resultSets'][0]['rowSet'][i:][0][7],\n",
    "        'Points': team_info['resultSets'][0]['rowSet'][i:][0][-2]\n",
    "    }\n",
    "    \n",
    "    year_played = team_info['resultSets'][0]['rowSet'][i:][0][3]\n",
    "    full_team_info[year_played] = team_dict\n",
    "    i = i-1\n",
    "    # pprint(team_info['resultSets'][0]['rowSet'][i:][0])"
   ]
  },
  {
   "cell_type": "code",
   "execution_count": 118,
   "metadata": {},
   "outputs": [],
   "source": [
    "full_team_stats_df = pd.DataFrame(full_team_info, index=None).T.reset_index()\n",
    "full_team_stats_df[['index', 'ID', 'Team', 'Win %', 'Points', 'Games Played']]\n",
    "full_team_stats_df['Points Per Game'] = full_team_stats_df['Points'] / full_team_stats_df['Games Played']\n",
    "full_team_stats_df = full_team_stats_df.rename(columns={'index': 'Year'})\n",
    "full_team_stats_df.to_csv('Resources/regular_season_stats_champs.csv', index=False, header=True)"
   ]
  },
  {
   "cell_type": "code",
   "execution_count": 17,
   "metadata": {},
   "outputs": [
    {
     "name": "stderr",
     "output_type": "stream",
     "text": [
      "C:\\Users\\K\\AppData\\Local\\Temp\\ipykernel_19932\\2684625268.py:5: SettingWithCopyWarning: \n",
      "A value is trying to be set on a copy of a slice from a DataFrame.\n",
      "Try using .loc[row_indexer,col_indexer] = value instead\n",
      "\n",
      "See the caveats in the documentation: https://pandas.pydata.org/pandas-docs/stable/user_guide/indexing.html#returning-a-view-versus-a-copy\n",
      "  champs_points_df['Result'] = result\n"
     ]
    }
   ],
   "source": [
    "opponents_scores = [107.6, 108.4, 107.5, 104.3, 98.3, 99.9, 97.6, 95.0, 92.5, 96.0,\n",
    "                    97.0, 99.3, 90.3, 90.1, 96.0, 88.4, 84.3, 90.4, 94.1, 97.2, 92.3]"
   ]
  },
  {
   "cell_type": "code",
   "execution_count": null,
   "metadata": {},
   "outputs": [],
   "source": []
  }
 ],
 "metadata": {
  "kernelspec": {
   "display_name": "base",
   "language": "python",
   "name": "python3"
  },
  "language_info": {
   "codemirror_mode": {
    "name": "ipython",
    "version": 3
   },
   "file_extension": ".py",
   "mimetype": "text/x-python",
   "name": "python",
   "nbconvert_exporter": "python",
   "pygments_lexer": "ipython3",
   "version": "3.11.5"
  }
 },
 "nbformat": 4,
 "nbformat_minor": 2
}
